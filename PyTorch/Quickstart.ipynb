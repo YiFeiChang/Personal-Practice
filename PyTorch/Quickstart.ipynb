{
 "cells": [
  {
   "cell_type": "markdown",
   "id": "2f266357-1e4b-4117-bafb-805b4b507a25",
   "metadata": {},
   "source": [
    "# Quickstart\n",
    "This section runs through the API for common tasks in machine learning. Refer to the links in each section to dive deeper."
   ]
  },
  {
   "cell_type": "markdown",
   "id": "66d8530b-5c50-4ac0-8251-32fab6b8f310",
   "metadata": {},
   "source": [
    "## Working with data\n",
    "PyTorch has two primitives to work with data: ```torch.utils.data.DataLoader``` and ```torch.utils.data.Dataset```. ```Dataset``` stores the samples and their corresponding labels, and ```DataLoader``` wraps an iterable around the ```Dataset```."
   ]
  },
  {
   "cell_type": "code",
   "execution_count": 1,
   "id": "2015ae43-4ef9-4004-91bd-f883b8d41db0",
   "metadata": {},
   "outputs": [],
   "source": [
    "import torch\n",
    "from torch import nn\n",
    "from torch.utils.data import DataLoader\n",
    "from torchvision import datasets\n",
    "from torchvision.transforms import ToTensor"
   ]
  },
  {
   "cell_type": "markdown",
   "id": "36428867-2721-42b4-bd1b-8e57ff48077b",
   "metadata": {},
   "source": [
    "PyTorch offers domain-specific libraries such as TorchText, TorchVision, and TorchAudio, all of which include datasets. For this tutorial, we will be using a TorchVision dataset.\n",
    "\n",
    "The ```torchvision.datasets``` module contains ```Dataset``` objects for many real-world vision data like CIFAR, COCO (full list here). In this tutorial, we use the FashionMNIST dataset. Every TorchVision ```Dataset``` includes two arguments: ```transform``` and ```target_transform``` to modify the samples and labels respectively."
   ]
  },
  {
   "cell_type": "code",
   "execution_count": 2,
   "id": "b2c033d7-4e83-4689-8ba4-db543a68bd69",
   "metadata": {},
   "outputs": [
    {
     "name": "stderr",
     "output_type": "stream",
     "text": [
      "100.0%\n",
      "100.0%\n",
      "100.0%\n",
      "100.0%\n"
     ]
    }
   ],
   "source": [
    "# Download training data from open datasets.\n",
    "training_data = datasets.FashionMNIST(\n",
    "    root=\"data\",\n",
    "    train=True,\n",
    "    download=True,\n",
    "    transform=ToTensor(),\n",
    ")\n",
    "\n",
    "# Download test data from open datasets.\n",
    "test_data = datasets.FashionMNIST(\n",
    "    root=\"data\",\n",
    "    train=False,\n",
    "    download=True,\n",
    "    transform=ToTensor(),\n",
    ")"
   ]
  },
  {
   "cell_type": "markdown",
   "id": "33248f05-0a28-4533-bcd9-5a8dbb633644",
   "metadata": {},
   "source": [
    "We pass the ```Dataset``` as an argument to ```DataLoader```. This wraps an iterable over our dataset, and supports automatic batching, sampling, shuffling and multiprocess data loading. Here we define a batch size of 64, i.e. each element in the dataloader iterable will return a batch of 64 features and labels."
   ]
  },
  {
   "cell_type": "code",
   "execution_count": 3,
   "id": "cefb4cc3-0886-4184-9a9e-bbcea14ffe64",
   "metadata": {},
   "outputs": [
    {
     "name": "stdout",
     "output_type": "stream",
     "text": [
      "Shape of X [N, C, H, W]: torch.Size([64, 1, 28, 28])\n",
      "Shape of y: torch.Size([64]) torch.int64\n"
     ]
    }
   ],
   "source": [
    "batch_size = 64\n",
    "\n",
    "# Create data loaders.\n",
    "train_dataloader = DataLoader(training_data, batch_size=batch_size)\n",
    "test_dataloader = DataLoader(test_data, batch_size=batch_size)\n",
    "\n",
    "for X, y in test_dataloader:\n",
    "    print(f\"Shape of X [N, C, H, W]: {X.shape}\")\n",
    "    print(f\"Shape of y: {y.shape} {y.dtype}\")\n",
    "    break"
   ]
  },
  {
   "cell_type": "code",
   "execution_count": 4,
   "id": "079c210c-6371-4279-9aca-4887e46347ea",
   "metadata": {},
   "outputs": [
    {
     "name": "stdout",
     "output_type": "stream",
     "text": [
      "Using cuda device\n",
      "NeuralNetwork(\n",
      "  (flatten): Flatten(start_dim=1, end_dim=-1)\n",
      "  (linear_relu_stack): Sequential(\n",
      "    (0): Linear(in_features=784, out_features=512, bias=True)\n",
      "    (1): ReLU()\n",
      "    (2): Linear(in_features=512, out_features=512, bias=True)\n",
      "    (3): ReLU()\n",
      "    (4): Linear(in_features=512, out_features=10, bias=True)\n",
      "  )\n",
      ")\n"
     ]
    }
   ],
   "source": [
    "device = torch.accelerator.current_accelerator().type if torch.accelerator.is_available() else \"cpu\"\n",
    "print(f\"Using {device} device\")\n",
    "\n",
    "# Define model\n",
    "class NeuralNetwork(nn.Module):\n",
    "    def __init__(self):\n",
    "        super().__init__()\n",
    "        self.flatten = nn.Flatten()\n",
    "        self.linear_relu_stack = nn.Sequential(\n",
    "            nn.Linear(28*28, 512),\n",
    "            nn.ReLU(),\n",
    "            nn.Linear(512, 512),\n",
    "            nn.ReLU(),\n",
    "            nn.Linear(512, 10)\n",
    "        )\n",
    "\n",
    "    def forward(self, x):\n",
    "        x = self.flatten(x)\n",
    "        logits = self.linear_relu_stack(x)\n",
    "        return logits\n",
    "\n",
    "model = NeuralNetwork().to(device)\n",
    "print(model)"
   ]
  },
  {
   "cell_type": "code",
   "execution_count": 5,
   "id": "78281dbd-9ea3-4168-8148-aadef434f56f",
   "metadata": {},
   "outputs": [],
   "source": [
    "loss_fn = nn.CrossEntropyLoss()\n",
    "optimizer = torch.optim.SGD(model.parameters(), lr=1e-3)"
   ]
  },
  {
   "cell_type": "code",
   "execution_count": 6,
   "id": "08638ca1-4b98-42fa-a185-2d250ecbfe4a",
   "metadata": {},
   "outputs": [],
   "source": [
    "def train(dataloader, model, loss_fn, optimizer):\n",
    "    size = len(dataloader.dataset)\n",
    "    model.train()\n",
    "    for batch, (X, y) in enumerate(dataloader):\n",
    "        X, y = X.to(device), y.to(device)\n",
    "\n",
    "        # Compute prediction error\n",
    "        pred = model(X)\n",
    "        loss = loss_fn(pred, y)\n",
    "\n",
    "        # Backpropagation\n",
    "        loss.backward()\n",
    "        optimizer.step()\n",
    "        optimizer.zero_grad()\n",
    "\n",
    "        if batch % 100 == 0:\n",
    "            loss, current = loss.item(), (batch + 1) * len(X)\n",
    "            print(f\"loss: {loss:>7f}  [{current:>5d}/{size:>5d}]\")"
   ]
  },
  {
   "cell_type": "code",
   "execution_count": 7,
   "id": "3ceb3f91-3cf6-4b39-b695-5a9172f50422",
   "metadata": {},
   "outputs": [],
   "source": [
    "def test(dataloader, model, loss_fn):\n",
    "    size = len(dataloader.dataset)\n",
    "    num_batches = len(dataloader)\n",
    "    model.eval()\n",
    "    test_loss, correct = 0, 0\n",
    "    with torch.no_grad():\n",
    "        for X, y in dataloader:\n",
    "            X, y = X.to(device), y.to(device)\n",
    "            pred = model(X)\n",
    "            test_loss += loss_fn(pred, y).item()\n",
    "            correct += (pred.argmax(1) == y).type(torch.float).sum().item()\n",
    "    test_loss /= num_batches\n",
    "    correct /= size\n",
    "    print(f\"Test Error: \\n Accuracy: {(100*correct):>0.1f}%, Avg loss: {test_loss:>8f} \\n\")"
   ]
  },
  {
   "cell_type": "code",
   "execution_count": 8,
   "id": "2d0e85d4-3a05-4e3d-80fa-0bf364b339de",
   "metadata": {},
   "outputs": [
    {
     "name": "stdout",
     "output_type": "stream",
     "text": [
      "Epoch 1\n",
      "-------------------------------\n",
      "loss: 2.303146  [   64/60000]\n",
      "loss: 2.295603  [ 6464/60000]\n",
      "loss: 2.278497  [12864/60000]\n",
      "loss: 2.273640  [19264/60000]\n",
      "loss: 2.262057  [25664/60000]\n",
      "loss: 2.223919  [32064/60000]\n",
      "loss: 2.242055  [38464/60000]\n",
      "loss: 2.201932  [44864/60000]\n",
      "loss: 2.193931  [51264/60000]\n",
      "loss: 2.167964  [57664/60000]\n",
      "Test Error: \n",
      " Accuracy: 31.1%, Avg loss: 2.164084 \n",
      "\n",
      "Epoch 2\n",
      "-------------------------------\n",
      "loss: 2.167911  [   64/60000]\n",
      "loss: 2.166752  [ 6464/60000]\n",
      "loss: 2.107635  [12864/60000]\n",
      "loss: 2.129363  [19264/60000]\n",
      "loss: 2.072773  [25664/60000]\n",
      "loss: 2.005415  [32064/60000]\n",
      "loss: 2.048302  [38464/60000]\n",
      "loss: 1.956986  [44864/60000]\n",
      "loss: 1.958073  [51264/60000]\n",
      "loss: 1.901925  [57664/60000]\n",
      "Test Error: \n",
      " Accuracy: 54.0%, Avg loss: 1.893501 \n",
      "\n",
      "Epoch 3\n",
      "-------------------------------\n",
      "loss: 1.912366  [   64/60000]\n",
      "loss: 1.894197  [ 6464/60000]\n",
      "loss: 1.771305  [12864/60000]\n",
      "loss: 1.826665  [19264/60000]\n",
      "loss: 1.705228  [25664/60000]\n",
      "loss: 1.652473  [32064/60000]\n",
      "loss: 1.692244  [38464/60000]\n",
      "loss: 1.577393  [44864/60000]\n",
      "loss: 1.602831  [51264/60000]\n",
      "loss: 1.520092  [57664/60000]\n",
      "Test Error: \n",
      " Accuracy: 60.9%, Avg loss: 1.527104 \n",
      "\n",
      "Epoch 4\n",
      "-------------------------------\n",
      "loss: 1.577210  [   64/60000]\n",
      "loss: 1.556705  [ 6464/60000]\n",
      "loss: 1.401505  [12864/60000]\n",
      "loss: 1.487999  [19264/60000]\n",
      "loss: 1.365724  [25664/60000]\n",
      "loss: 1.355930  [32064/60000]\n",
      "loss: 1.383077  [38464/60000]\n",
      "loss: 1.296610  [44864/60000]\n",
      "loss: 1.334234  [51264/60000]\n",
      "loss: 1.248209  [57664/60000]\n",
      "Test Error: \n",
      " Accuracy: 62.7%, Avg loss: 1.267664 \n",
      "\n",
      "Epoch 5\n",
      "-------------------------------\n",
      "loss: 1.334085  [   64/60000]\n",
      "loss: 1.324647  [ 6464/60000]\n",
      "loss: 1.155631  [12864/60000]\n",
      "loss: 1.268611  [19264/60000]\n",
      "loss: 1.142716  [25664/60000]\n",
      "loss: 1.163939  [32064/60000]\n",
      "loss: 1.191048  [38464/60000]\n",
      "loss: 1.121845  [44864/60000]\n",
      "loss: 1.164971  [51264/60000]\n",
      "loss: 1.086367  [57664/60000]\n",
      "Test Error: \n",
      " Accuracy: 64.1%, Avg loss: 1.103496 \n",
      "\n",
      "Done!\n"
     ]
    }
   ],
   "source": [
    "epochs = 5\n",
    "for t in range(epochs):\n",
    "    print(f\"Epoch {t+1}\\n-------------------------------\")\n",
    "    train(train_dataloader, model, loss_fn, optimizer)\n",
    "    test(test_dataloader, model, loss_fn)\n",
    "print(\"Done!\")"
   ]
  },
  {
   "cell_type": "code",
   "execution_count": 9,
   "id": "80066935-08f3-496e-ac0b-e4690bd2e473",
   "metadata": {},
   "outputs": [
    {
     "name": "stdout",
     "output_type": "stream",
     "text": [
      "Saved PyTorch Model State to model.pth\n"
     ]
    }
   ],
   "source": [
    "torch.save(model.state_dict(), \"model.pth\")\n",
    "print(\"Saved PyTorch Model State to model.pth\")"
   ]
  },
  {
   "cell_type": "code",
   "execution_count": 10,
   "id": "69f07573-133c-40f6-8330-86fd354318ff",
   "metadata": {},
   "outputs": [
    {
     "data": {
      "text/plain": [
       "<All keys matched successfully>"
      ]
     },
     "execution_count": 10,
     "metadata": {},
     "output_type": "execute_result"
    }
   ],
   "source": [
    "model = NeuralNetwork().to(device)\n",
    "model.load_state_dict(torch.load(\"model.pth\", weights_only=True))"
   ]
  },
  {
   "cell_type": "code",
   "execution_count": 11,
   "id": "69bffddd-290c-4f2c-99f0-b6cda01b9010",
   "metadata": {},
   "outputs": [
    {
     "name": "stdout",
     "output_type": "stream",
     "text": [
      "Predicted: \"Ankle boot\", Actual: \"Ankle boot\"\n"
     ]
    }
   ],
   "source": [
    "classes = [\n",
    "    \"T-shirt/top\",\n",
    "    \"Trouser\",\n",
    "    \"Pullover\",\n",
    "    \"Dress\",\n",
    "    \"Coat\",\n",
    "    \"Sandal\",\n",
    "    \"Shirt\",\n",
    "    \"Sneaker\",\n",
    "    \"Bag\",\n",
    "    \"Ankle boot\",\n",
    "]\n",
    "\n",
    "model.eval()\n",
    "x, y = test_data[0][0], test_data[0][1]\n",
    "with torch.no_grad():\n",
    "    x = x.to(device)\n",
    "    pred = model(x)\n",
    "    predicted, actual = classes[pred[0].argmax(0)], classes[y]\n",
    "    print(f'Predicted: \"{predicted}\", Actual: \"{actual}\"')"
   ]
  },
  {
   "cell_type": "code",
   "execution_count": null,
   "id": "2bceaae3-53fd-4db8-a7f1-bd979d0ab6df",
   "metadata": {},
   "outputs": [],
   "source": []
  }
 ],
 "metadata": {
  "kernelspec": {
   "display_name": "Python 3 (ipykernel)",
   "language": "python",
   "name": "python3"
  },
  "language_info": {
   "codemirror_mode": {
    "name": "ipython",
    "version": 3
   },
   "file_extension": ".py",
   "mimetype": "text/x-python",
   "name": "python",
   "nbconvert_exporter": "python",
   "pygments_lexer": "ipython3",
   "version": "3.13.2"
  }
 },
 "nbformat": 4,
 "nbformat_minor": 5
}
